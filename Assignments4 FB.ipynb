{
 "cells": [
  {
   "cell_type": "markdown",
   "id": "1cd0b37a",
   "metadata": {},
   "source": [
    "Assignment 4 (due on 12/06)\n",
    "\n",
    "Student：梁纪元（12332296），Gtihub：Edc147258\n",
    "\n",
    "批改人：赵淑慧\n",
    "\n",
    "得分：23+1/30\n",
    "\n",
    "报告写得比较认真加一分"
   ]
  },
  {
   "cell_type": "markdown",
   "id": "4e38d672",
   "metadata": {},
   "source": [
    "# PS1. Global Earthquakes\n",
    "9/10  \n",
    "题图中中心经度为180度，需要进行贴图操作-ax.stock_img()，标点需要设置edgecolor='black'。"
   ]
  },
  {
   "cell_type": "markdown",
   "id": "44b42bd6",
   "metadata": {},
   "source": [
    "# PS2. Explore a netCDF dataset\n",
    "14/20  \n",
    "1. 缺少legend，annotation和text box，见ax.legend(), ax.annotate()和ax.text()方法。7/10\n",
    "2. 同上。7/10"
   ]
  }
 ],
 "metadata": {
  "kernelspec": {
   "display_name": "py39ta",
   "language": "python",
   "name": "ta"
  },
  "language_info": {
   "codemirror_mode": {
    "name": "ipython",
    "version": 3
   },
   "file_extension": ".py",
   "mimetype": "text/x-python",
   "name": "python",
   "nbconvert_exporter": "python",
   "pygments_lexer": "ipython3",
   "version": "3.9.18"
  }
 },
 "nbformat": 4,
 "nbformat_minor": 5
}
